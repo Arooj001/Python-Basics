{
 "cells": [
  {
   "cell_type": "markdown",
   "id": "fd436ae4",
   "metadata": {},
   "source": [
    "**Python Basics**"
   ]
  },
  {
   "cell_type": "markdown",
   "id": "6a484cec",
   "metadata": {},
   "source": [
    "**Variables in Python**"
   ]
  },
  {
   "cell_type": "code",
   "execution_count": 1,
   "id": "c4045491",
   "metadata": {},
   "outputs": [
    {
     "name": "stdout",
     "output_type": "stream",
     "text": [
      "The value of a is:5\n"
     ]
    }
   ],
   "source": [
    "a = 5\n",
    "print(\"The value of a is:\" +str(a))"
   ]
  },
  {
   "cell_type": "code",
   "execution_count": 2,
   "id": "431ccfb7",
   "metadata": {},
   "outputs": [
    {
     "name": "stdout",
     "output_type": "stream",
     "text": [
      "The value of b is:24\n"
     ]
    }
   ],
   "source": [
    "b = 24 \n",
    "print(\"The value of b is:\" +str(b))"
   ]
  },
  {
   "cell_type": "code",
   "execution_count": 3,
   "id": "a0f2e1b5",
   "metadata": {},
   "outputs": [
    {
     "name": "stdout",
     "output_type": "stream",
     "text": [
      "The value of z is:18\n"
     ]
    }
   ],
   "source": [
    "z = 18\n",
    "print(\"The value of z is:\" +str(z))"
   ]
  },
  {
   "cell_type": "code",
   "execution_count": 4,
   "id": "70ee4344",
   "metadata": {},
   "outputs": [
    {
     "name": "stdout",
     "output_type": "stream",
     "text": [
      "The value of O is:28\n"
     ]
    }
   ],
   "source": [
    "O = 28\n",
    "print(\"The value of O is:\" +str(O))"
   ]
  },
  {
   "cell_type": "code",
   "execution_count": 15,
   "id": "2137aace",
   "metadata": {},
   "outputs": [
    {
     "name": "stdout",
     "output_type": "stream",
     "text": [
      "The value of a is: 22\n",
      "The value of b is: 23\n",
      "The value of c is: 28\n",
      "10\n"
     ]
    }
   ],
   "source": [
    "a = 22\n",
    "b = 23\n",
    "c = 28\n",
    "\n",
    "num = 5\n",
    "\n",
    "num = 10 \n",
    "\n",
    "print(\"The value of a is: \" +str(a))\n",
    "print(\"The value of b is: \" +str(b))\n",
    "print(\"The value of c is: \" +str(c))\n",
    "print(num)"
   ]
  },
  {
   "cell_type": "markdown",
   "id": "d7109ab8",
   "metadata": {},
   "source": [
    "**Arithemetic Operations**"
   ]
  },
  {
   "cell_type": "code",
   "execution_count": 5,
   "id": "555b453d",
   "metadata": {},
   "outputs": [
    {
     "name": "stdout",
     "output_type": "stream",
     "text": [
      "71\n"
     ]
    }
   ],
   "source": [
    "a = 10\n",
    "b = 25\n",
    "c = 36\n",
    "print (a+b+c)"
   ]
  },
  {
   "cell_type": "code",
   "execution_count": 6,
   "id": "8c288788",
   "metadata": {},
   "outputs": [
    {
     "name": "stdout",
     "output_type": "stream",
     "text": [
      "44\n",
      "82\n"
     ]
    }
   ],
   "source": [
    "a = 78\n",
    "b = 48\n",
    "c = 34\n",
    "print(a-c)\n",
    "print(b+c)"
   ]
  },
  {
   "cell_type": "code",
   "execution_count": 7,
   "id": "87c9f658",
   "metadata": {},
   "outputs": [
    {
     "name": "stdout",
     "output_type": "stream",
     "text": [
      "This is Python Program\n"
     ]
    }
   ],
   "source": [
    "a = \"This \"\n",
    "b = \"is \"\n",
    "c = \"Python Program\"\n",
    "print(a+b+c)"
   ]
  },
  {
   "cell_type": "code",
   "execution_count": 18,
   "id": "d8b134e0",
   "metadata": {},
   "outputs": [
    {
     "name": "stdout",
     "output_type": "stream",
     "text": [
      "6 feet\n",
      "90 Kg\n",
      "Average\n"
     ]
    }
   ],
   "source": [
    "height = \"6 feet\"\n",
    "weight = \"90 Kg\"\n",
    "body_type = \"Average\"\n",
    "print (height)\n",
    "print (weight)\n",
    "print (body_type)"
   ]
  },
  {
   "cell_type": "code",
   "execution_count": 1,
   "id": "a68af365",
   "metadata": {},
   "outputs": [
    {
     "name": "stdout",
     "output_type": "stream",
     "text": [
      "Be number One \n"
     ]
    }
   ],
   "source": [
    "Motive = \"Be number One \"\n",
    "a = Motive \n",
    "print(a)"
   ]
  },
  {
   "cell_type": "markdown",
   "id": "0a7ff1f4",
   "metadata": {},
   "source": [
    "**Input Function**"
   ]
  },
  {
   "cell_type": "code",
   "execution_count": 16,
   "id": "aead274c",
   "metadata": {},
   "outputs": [
    {
     "name": "stdout",
     "output_type": "stream",
     "text": [
      "Enter your name Arooj Imtiaz\n",
      "Where are you from Rawalpindi \n",
      "What is your age 31\n"
     ]
    }
   ],
   "source": [
    "a = input(\"Enter your name \")\n",
    "b = input(\"Where are you from \")\n",
    "c = input(\"What is your age \")"
   ]
  },
  {
   "cell_type": "code",
   "execution_count": 17,
   "id": "3ea49300",
   "metadata": {},
   "outputs": [
    {
     "name": "stdout",
     "output_type": "stream",
     "text": [
      "My name is: Arooj Imtiaz\n",
      "I am from: Rawalpindi \n",
      "My age is: 31\n",
      "I am a student of: AtomCamp \n"
     ]
    }
   ],
   "source": [
    "a = input(\"My name is: \")\n",
    "b = input(\"I am from: \")\n",
    "c = input(\"My age is: \")\n",
    "d = input(\"I am a student of: \")"
   ]
  },
  {
   "cell_type": "code",
   "execution_count": 11,
   "id": "8d7d2d1b",
   "metadata": {},
   "outputs": [
    {
     "name": "stdout",
     "output_type": "stream",
     "text": [
      "100\n"
     ]
    },
    {
     "data": {
      "text/plain": [
       "'100'"
      ]
     },
     "execution_count": 11,
     "metadata": {},
     "output_type": "execute_result"
    }
   ],
   "source": [
    "input()"
   ]
  },
  {
   "cell_type": "code",
   "execution_count": 13,
   "id": "9bede98f",
   "metadata": {
    "scrolled": true
   },
   "outputs": [
    {
     "name": "stdout",
     "output_type": "stream",
     "text": [
      "input your phone number00000000000\n"
     ]
    },
    {
     "data": {
      "text/plain": [
       "int"
      ]
     },
     "execution_count": 13,
     "metadata": {},
     "output_type": "execute_result"
    }
   ],
   "source": [
    "a = int(input(\"input your phone number\"))\n",
    "type(a)"
   ]
  },
  {
   "cell_type": "code",
   "execution_count": 14,
   "id": "898f99ff",
   "metadata": {},
   "outputs": [
    {
     "name": "stdout",
     "output_type": "stream",
     "text": [
      "input your phone numberArooj\n"
     ]
    },
    {
     "data": {
      "text/plain": [
       "str"
      ]
     },
     "execution_count": 14,
     "metadata": {},
     "output_type": "execute_result"
    }
   ],
   "source": [
    "a = input(\"input your phone number\")\n",
    "type(a)"
   ]
  },
  {
   "cell_type": "code",
   "execution_count": 1,
   "id": "44fad302",
   "metadata": {},
   "outputs": [
    {
     "name": "stdout",
     "output_type": "stream",
     "text": [
      "Which course are you interested in? Data Science \n",
      "What is the rating of this course? 10\n",
      "What is the cost of this course? $100\n"
     ]
    }
   ],
   "source": [
    "course = input(\"Which course are you interested in? \")\n",
    "rating = input(\"What is the rating of this course? \")\n",
    "cost = input(\"What is the cost of this course? \")"
   ]
  },
  {
   "cell_type": "code",
   "execution_count": 3,
   "id": "9a4c6abc",
   "metadata": {},
   "outputs": [
    {
     "name": "stdout",
     "output_type": "stream",
     "text": [
      "Which course are you interested in? Data Science\n",
      "What is the rating of this course? 9\n",
      "What is the cost of this course? $100\n",
      "Course Interested:Data Science\n",
      "Rating of the course:9\n",
      "Cost of the course:$100\n"
     ]
    }
   ],
   "source": [
    "course = input(\"Which course are you interested in? \")\n",
    "rating = input(\"What is the rating of this course? \")\n",
    "cost = input(\"What is the cost of this course? \")\n",
    "type(cost)\n",
    "print(\"Course Interested:\" + course)\n",
    "print(\"Rating of the course:\" + rating)\n",
    "print(\"Cost of the course:\" + cost)"
   ]
  },
  {
   "cell_type": "code",
   "execution_count": 13,
   "id": "9216029e",
   "metadata": {},
   "outputs": [
    {
     "name": "stdout",
     "output_type": "stream",
     "text": [
      "Please enter something: Hi! How are you?\n",
      "Hi! How are you?\n"
     ]
    },
    {
     "data": {
      "text/plain": [
       "str"
      ]
     },
     "execution_count": 13,
     "metadata": {},
     "output_type": "execute_result"
    }
   ],
   "source": [
    "user_input = input(\"Please enter something: \")\n",
    "print(user_input)\n",
    "type(user_input)"
   ]
  },
  {
   "cell_type": "markdown",
   "id": "a372d0c5",
   "metadata": {},
   "source": [
    "**Concatenate**"
   ]
  },
  {
   "cell_type": "code",
   "execution_count": 22,
   "id": "b0412b0d",
   "metadata": {},
   "outputs": [
    {
     "name": "stdout",
     "output_type": "stream",
     "text": [
      "Violet is the Best Cohort \n"
     ]
    }
   ],
   "source": [
    "a = \"Violet \"\n",
    "b = \"is \"\n",
    "c = \"the \"\n",
    "d = \"Best Cohort \"\n",
    "print(a+b+c+d)"
   ]
  },
  {
   "cell_type": "markdown",
   "id": "0498ae76",
   "metadata": {},
   "source": [
    "**Type Function**"
   ]
  },
  {
   "cell_type": "code",
   "execution_count": 23,
   "id": "86d6ac5b",
   "metadata": {},
   "outputs": [
    {
     "name": "stdout",
     "output_type": "stream",
     "text": [
      "<class 'str'>\n",
      "<class 'int'>\n",
      "<class 'float'>\n",
      "<class 'int'>\n"
     ]
    }
   ],
   "source": [
    "a = \"Arooj\"\n",
    "b = 8\n",
    "c = 10.5\n",
    "d = 3+5\n",
    "print(type(a))\n",
    "print(type(b))\n",
    "print(type(c))\n",
    "print(type(d))"
   ]
  },
  {
   "cell_type": "code",
   "execution_count": 40,
   "id": "caeac3eb",
   "metadata": {},
   "outputs": [
    {
     "name": "stdout",
     "output_type": "stream",
     "text": [
      "<class 'str'>\n",
      "<class 'str'>\n"
     ]
    }
   ],
   "source": [
    "a = \"Arooj \"\n",
    "b = \"Imtiaz \"\n",
    "print(type(a))\n",
    "print(type(b))"
   ]
  },
  {
   "cell_type": "code",
   "execution_count": 3,
   "id": "e9dc3767",
   "metadata": {},
   "outputs": [
    {
     "name": "stdout",
     "output_type": "stream",
     "text": [
      "<class 'float'>\n",
      "<class 'float'>\n",
      "<class 'str'>\n"
     ]
    }
   ],
   "source": [
    "a = 5.0\n",
    "b = 10.88\n",
    "c = \"Arooj\"\n",
    "print(type(a))\n",
    "print(type(b))\n",
    "print(type(c))"
   ]
  },
  {
   "cell_type": "markdown",
   "id": "4fd6861b",
   "metadata": {},
   "source": [
    "**Concatenates a String**"
   ]
  },
  {
   "cell_type": "code",
   "execution_count": 25,
   "id": "5b56d361",
   "metadata": {},
   "outputs": [
    {
     "name": "stdout",
     "output_type": "stream",
     "text": [
      "Arooj 10\n"
     ]
    }
   ],
   "source": [
    "a = \"Arooj \"\n",
    "b = 10 \n",
    "print(a+str(b))"
   ]
  },
  {
   "cell_type": "code",
   "execution_count": 32,
   "id": "8d0cfa3a",
   "metadata": {},
   "outputs": [
    {
     "name": "stdout",
     "output_type": "stream",
     "text": [
      "Arooj Imtiaz \n",
      "Arooj Imtiaz 8\n"
     ]
    }
   ],
   "source": [
    "a = \"Arooj \"\n",
    "b = \"Imtiaz \"\n",
    "c = 8\n",
    "print(a+b)\n",
    "print(a+b+str(c))"
   ]
  },
  {
   "cell_type": "code",
   "execution_count": 45,
   "id": "42685bc3",
   "metadata": {},
   "outputs": [
    {
     "name": "stdout",
     "output_type": "stream",
     "text": [
      "I can add interger, like 5 To String\n"
     ]
    }
   ],
   "source": [
    "print(\"I can add interger, like \" +str(5)+ \" To String\")"
   ]
  },
  {
   "cell_type": "markdown",
   "id": "133943b3",
   "metadata": {},
   "source": [
    "**Addition of Variables**"
   ]
  },
  {
   "cell_type": "code",
   "execution_count": 33,
   "id": "7261e1ef",
   "metadata": {},
   "outputs": [
    {
     "name": "stdout",
     "output_type": "stream",
     "text": [
      "43\n"
     ]
    }
   ],
   "source": [
    "a = 10\n",
    "b = 33\n",
    "c = a+b\n",
    "print(c)"
   ]
  },
  {
   "cell_type": "markdown",
   "id": "66aba25c",
   "metadata": {},
   "source": [
    "**Multiplication of Variables**"
   ]
  },
  {
   "cell_type": "code",
   "execution_count": 35,
   "id": "0d236fdb",
   "metadata": {},
   "outputs": [
    {
     "name": "stdout",
     "output_type": "stream",
     "text": [
      "Arooj Imtiaz Imtiaz Imtiaz \n"
     ]
    }
   ],
   "source": [
    "a = \"Arooj \"\n",
    "b = \"Imtiaz \"\n",
    "print(a+b*3)"
   ]
  },
  {
   "cell_type": "code",
   "execution_count": 38,
   "id": "b1889135",
   "metadata": {},
   "outputs": [
    {
     "name": "stdout",
     "output_type": "stream",
     "text": [
      "Arooj Imtiaz Arooj Imtiaz Arooj Imtiaz \n"
     ]
    }
   ],
   "source": [
    "a = \"Arooj \"\n",
    "b = \"Imtiaz \"\n",
    "print((a+b)*3)"
   ]
  },
  {
   "cell_type": "code",
   "execution_count": 39,
   "id": "8f2718b5",
   "metadata": {},
   "outputs": [
    {
     "name": "stdout",
     "output_type": "stream",
     "text": [
      "Arooj Arooj Arooj \n",
      "Imtiaz Imtiaz Imtiaz \n"
     ]
    }
   ],
   "source": [
    "a = \"Arooj \"\n",
    "b = \"Imtiaz \"\n",
    "print(a*3)\n",
    "print(b*3)"
   ]
  },
  {
   "cell_type": "code",
   "execution_count": 6,
   "id": "87f55b40",
   "metadata": {},
   "outputs": [
    {
     "name": "stdout",
     "output_type": "stream",
     "text": [
      "Arooj ImtiazArooj ImtiazArooj ImtiazArooj ImtiazArooj ImtiazArooj ImtiazArooj ImtiazArooj ImtiazArooj ImtiazArooj Imtiaz\n"
     ]
    }
   ],
   "source": [
    "a = \"Arooj \"\n",
    "b = \"Imtiaz\"\n",
    "print ((a+b)*10)"
   ]
  },
  {
   "cell_type": "markdown",
   "id": "4fda2bd1",
   "metadata": {},
   "source": [
    "**Division**"
   ]
  },
  {
   "cell_type": "code",
   "execution_count": 1,
   "id": "961fc6a9",
   "metadata": {},
   "outputs": [
    {
     "name": "stdout",
     "output_type": "stream",
     "text": [
      "2.0\n"
     ]
    }
   ],
   "source": [
    "a = 10 \n",
    "b = 5\n",
    "print(a/b)"
   ]
  },
  {
   "cell_type": "markdown",
   "id": "601fdb6b",
   "metadata": {},
   "source": [
    "**True and False / True or False**"
   ]
  },
  {
   "cell_type": "code",
   "execution_count": 4,
   "id": "2180efb3",
   "metadata": {},
   "outputs": [
    {
     "data": {
      "text/plain": [
       "False"
      ]
     },
     "execution_count": 4,
     "metadata": {},
     "output_type": "execute_result"
    }
   ],
   "source": [
    "True and False"
   ]
  },
  {
   "cell_type": "code",
   "execution_count": 5,
   "id": "866780c9",
   "metadata": {},
   "outputs": [
    {
     "data": {
      "text/plain": [
       "True"
      ]
     },
     "execution_count": 5,
     "metadata": {},
     "output_type": "execute_result"
    }
   ],
   "source": [
    "True or False"
   ]
  },
  {
   "cell_type": "markdown",
   "id": "1fbfa711",
   "metadata": {},
   "source": [
    "**Assignment Operators**"
   ]
  },
  {
   "cell_type": "code",
   "execution_count": 7,
   "id": "4d85132b",
   "metadata": {},
   "outputs": [
    {
     "name": "stdout",
     "output_type": "stream",
     "text": [
      "45\n"
     ]
    }
   ],
   "source": [
    "a = 20\n",
    "a+= 25\n",
    "print(a)"
   ]
  },
  {
   "cell_type": "markdown",
   "id": "aaa60cf0",
   "metadata": {},
   "source": [
    "**Comparison Operators**"
   ]
  },
  {
   "cell_type": "code",
   "execution_count": 8,
   "id": "c98093ba",
   "metadata": {},
   "outputs": [
    {
     "data": {
      "text/plain": [
       "False"
      ]
     },
     "execution_count": 8,
     "metadata": {},
     "output_type": "execute_result"
    }
   ],
   "source": [
    "a = 20 \n",
    "b = 30\n",
    "a > b"
   ]
  },
  {
   "cell_type": "code",
   "execution_count": 9,
   "id": "0e6bcbc9",
   "metadata": {},
   "outputs": [
    {
     "data": {
      "text/plain": [
       "True"
      ]
     },
     "execution_count": 9,
     "metadata": {},
     "output_type": "execute_result"
    }
   ],
   "source": [
    "a = 20 \n",
    "b = 30\n",
    "a < b"
   ]
  },
  {
   "cell_type": "code",
   "execution_count": 10,
   "id": "d8964717",
   "metadata": {},
   "outputs": [
    {
     "data": {
      "text/plain": [
       "False"
      ]
     },
     "execution_count": 10,
     "metadata": {},
     "output_type": "execute_result"
    }
   ],
   "source": [
    "a = 20 \n",
    "b = 30\n",
    "a == b"
   ]
  },
  {
   "cell_type": "code",
   "execution_count": 2,
   "id": "e04bbd6e",
   "metadata": {},
   "outputs": [
    {
     "name": "stdout",
     "output_type": "stream",
     "text": [
      "11\n"
     ]
    }
   ],
   "source": [
    "a = 5\n",
    "b = 6\n",
    "print(a+b)"
   ]
  },
  {
   "cell_type": "code",
   "execution_count": 4,
   "id": "c77f63b0",
   "metadata": {},
   "outputs": [
    {
     "name": "stdout",
     "output_type": "stream",
     "text": [
      "150\n"
     ]
    }
   ],
   "source": [
    "val1 = 5\n",
    "val2 = 6\n",
    "val3 = 5\n",
    "res = val1*val2*val3\n",
    "print(res)"
   ]
  },
  {
   "cell_type": "code",
   "execution_count": 5,
   "id": "aefc3c14",
   "metadata": {},
   "outputs": [
    {
     "name": "stdout",
     "output_type": "stream",
     "text": [
      "0.16666666666666669\n"
     ]
    }
   ],
   "source": [
    "val1 = 5\n",
    "val2 = 6\n",
    "val3 = 5\n",
    "res = val1/val2/val3\n",
    "print(res)"
   ]
  },
  {
   "cell_type": "code",
   "execution_count": 6,
   "id": "fb7eab68",
   "metadata": {},
   "outputs": [
    {
     "data": {
      "text/plain": [
       "True"
      ]
     },
     "execution_count": 6,
     "metadata": {},
     "output_type": "execute_result"
    }
   ],
   "source": [
    "10==10"
   ]
  },
  {
   "cell_type": "code",
   "execution_count": 7,
   "id": "7772d187",
   "metadata": {},
   "outputs": [
    {
     "data": {
      "text/plain": [
       "False"
      ]
     },
     "execution_count": 7,
     "metadata": {},
     "output_type": "execute_result"
    }
   ],
   "source": [
    "num = 1\n",
    "num>10 and num % 2 == 0"
   ]
  },
  {
   "cell_type": "code",
   "execution_count": 8,
   "id": "6c34e737",
   "metadata": {},
   "outputs": [
    {
     "data": {
      "text/plain": [
       "True"
      ]
     },
     "execution_count": 8,
     "metadata": {},
     "output_type": "execute_result"
    }
   ],
   "source": [
    "num = 20\n",
    "num>10 and num % 2 == 0"
   ]
  },
  {
   "cell_type": "code",
   "execution_count": 9,
   "id": "3b7c6f15",
   "metadata": {},
   "outputs": [
    {
     "name": "stdout",
     "output_type": "stream",
     "text": [
      "25 3125\n"
     ]
    }
   ],
   "source": [
    "a = 5\n",
    "b = 4\n",
    "c = 5*5\n",
    "d = 5**5\n",
    "print(c,d)"
   ]
  },
  {
   "cell_type": "code",
   "execution_count": 10,
   "id": "059fce34",
   "metadata": {},
   "outputs": [
    {
     "name": "stdout",
     "output_type": "stream",
     "text": [
      "False\n",
      "False\n"
     ]
    }
   ],
   "source": [
    "my_number = 10\n",
    "\n",
    "print(my_number > 11 and my_number < 12)\n",
    "print(my_number < 11 and my_number > 12)"
   ]
  },
  {
   "cell_type": "code",
   "execution_count": 11,
   "id": "4be8ea77",
   "metadata": {},
   "outputs": [
    {
     "name": "stdout",
     "output_type": "stream",
     "text": [
      "x==y: False\n",
      "x!=y: True\n",
      "x<y: False\n",
      "x>y: True\n"
     ]
    }
   ],
   "source": [
    "x = 10 \n",
    "y = 6\n",
    "print(\"x==y:\", x==y)\n",
    "print(\"x!=y:\", x!=y)\n",
    "print(\"x<y:\", x<y)\n",
    "print(\"x>y:\", x>y)"
   ]
  },
  {
   "cell_type": "code",
   "execution_count": 12,
   "id": "0c1960b0",
   "metadata": {},
   "outputs": [
    {
     "name": "stdout",
     "output_type": "stream",
     "text": [
      "\n",
      "sting with the use of Triple Quotes:\n",
      "I am Learing python\n",
      "<class 'str'>\n"
     ]
    }
   ],
   "source": [
    "string1 = \"I am Learing python\"\n",
    "print(\"\\nsting with the use of Triple Quotes:\")\n",
    "print(string1)\n",
    "print(type(string1))"
   ]
  },
  {
   "cell_type": "markdown",
   "id": "7de2b9d2",
   "metadata": {},
   "source": [
    "**String**"
   ]
  },
  {
   "cell_type": "code",
   "execution_count": 14,
   "id": "d7b4c94d",
   "metadata": {},
   "outputs": [
    {
     "name": "stdout",
     "output_type": "stream",
     "text": [
      "My name is Arooj, i am 31 years old, and i am from Pakistan\n"
     ]
    }
   ],
   "source": [
    "name = \"Arooj\"\n",
    "age = 31\n",
    "country = \"Pakistan\"\n",
    "print(f\"My name is {name}, i am {age} years old, and i am from {country}\")"
   ]
  },
  {
   "cell_type": "code",
   "execution_count": 18,
   "id": "17ed0521",
   "metadata": {},
   "outputs": [
    {
     "name": "stdout",
     "output_type": "stream",
     "text": [
      "I have an SSD, which has No Data\n"
     ]
    }
   ],
   "source": [
    "Data = \"No Data\"\n",
    "Item = \"SSD\"\n",
    "print(f\"I have an {Item}, which has {Data}\")"
   ]
  },
  {
   "cell_type": "code",
   "execution_count": 17,
   "id": "f937dccf",
   "metadata": {},
   "outputs": [
    {
     "name": "stdout",
     "output_type": "stream",
     "text": [
      "Please enter your age 31\n",
      "The age is either younger than 20 or older 60 False\n"
     ]
    }
   ],
   "source": [
    "age = int(input(\"Please enter your age \"))\n",
    "print(\"The age is either younger than 20 or older 60\", age<20 or age>60)"
   ]
  }
 ],
 "metadata": {
  "kernelspec": {
   "display_name": "Python 3 (ipykernel)",
   "language": "python",
   "name": "python3"
  },
  "language_info": {
   "codemirror_mode": {
    "name": "ipython",
    "version": 3
   },
   "file_extension": ".py",
   "mimetype": "text/x-python",
   "name": "python",
   "nbconvert_exporter": "python",
   "pygments_lexer": "ipython3",
   "version": "3.11.5"
  }
 },
 "nbformat": 4,
 "nbformat_minor": 5
}
